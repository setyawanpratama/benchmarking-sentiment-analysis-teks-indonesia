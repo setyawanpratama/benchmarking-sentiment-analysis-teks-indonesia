{
 "cells": [
  {
   "cell_type": "code",
   "execution_count": 1,
   "metadata": {},
   "outputs": [],
   "source": [
    "import numpy as np\r\n",
    "import pandas as pd\r\n",
    "from sklearn.feature_extraction.text import CountVectorizer"
   ]
  },
  {
   "cell_type": "code",
   "execution_count": 2,
   "metadata": {},
   "outputs": [
    {
     "data": {
      "text/plain": [
       "0              sangat memuaskan untuk perjalanan ke jogja\n",
       "1                         kamar yang nyaman dan unik suka\n",
       "2       hotel direkomendasikan banget deh pokoknya pel...\n",
       "3       sangat menyenangkan lokasinya yang dekat dari ...\n",
       "4                         pelayanan yang baik mudah akses\n",
       "                              ...                        \n",
       "4995    kamarnya kotor dan kesan tidak terurus sangat ...\n",
       "4996    room saya deluxe tapi seperti tidak terawat be...\n",
       "4997    kemarnya lembab baunya kurang sedap tirai kama...\n",
       "4998    lantai rusak dan dinding banyak yang mengelupa...\n",
       "4999    speri yang di di minta ganti tidak di ganti da...\n",
       "Name: teks, Length: 5000, dtype: object"
      ]
     },
     "execution_count": 2,
     "metadata": {},
     "output_type": "execute_result"
    }
   ],
   "source": [
    "df = pd.read_csv(\"C:/Users/Samuel Samosir/Documents/Python/Kuliah/TA/benchmarking-sentiment-analysis-teks-indonesia/Dataset/templated/templated_posneg_data_bersih_helmi.csv\", sep=\";;;\", engine='python')\r\n",
    "df['teks']"
   ]
  },
  {
   "cell_type": "code",
   "execution_count": 6,
   "metadata": {},
   "outputs": [
    {
     "name": "stdout",
     "output_type": "stream",
     "text": [
      "[[0 0 0 ... 0 0 0]\n",
      " [0 0 0 ... 0 0 0]\n",
      " [0 0 0 ... 0 0 0]\n",
      " ...\n",
      " [0 0 0 ... 0 0 0]\n",
      " [0 0 0 ... 0 0 0]\n",
      " [0 0 0 ... 0 0 0]]\n"
     ]
    }
   ],
   "source": [
    "unigram = CountVectorizer(ngram_range=(1, 1))\r\n",
    "unigram_matrix = unigram.fit_transform(df['teks'].tolist())"
   ]
  }
 ],
 "metadata": {
  "interpreter": {
   "hash": "63fd5069d213b44bf678585dea6b12cceca9941eaf7f819626cde1f2670de90d"
  },
  "kernelspec": {
   "display_name": "Python 3.9.2 64-bit",
   "name": "python3"
  },
  "language_info": {
   "codemirror_mode": {
    "name": "ipython",
    "version": 3
   },
   "file_extension": ".py",
   "mimetype": "text/x-python",
   "name": "python",
   "nbconvert_exporter": "python",
   "pygments_lexer": "ipython3",
   "version": "3.9.2"
  }
 },
 "nbformat": 4,
 "nbformat_minor": 2
}
