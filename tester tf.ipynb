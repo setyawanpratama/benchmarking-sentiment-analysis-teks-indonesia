{
 "cells": [
  {
   "cell_type": "code",
   "execution_count": 12,
   "metadata": {},
   "outputs": [],
   "source": [
    "import os\n",
    "import h5py\n",
    "from nltk.util import usage\n",
    "import numpy as np\n",
    "import datetime\n",
    "import time\n",
    "import warnings\n",
    "\n",
    "from featureExtraction.tf.tf import *\n",
    "from featureExtraction.tfidf.tfidf import *\n",
    "from featureExtraction.fasttext.fasttext import *\n",
    "from featureExtraction.lexicon.lexicon import *\n",
    "from featureExtraction.orthography.orthography import *\n",
    "from featureExtraction.pos.postag import *\n",
    "from featureExtraction.tf.tf import *\n",
    "from featureExtraction.word2vec.word2vec import *\n",
    "from featureExtraction.ngram.ngram import *\n",
    "\n",
    "from featureSelection.kFold import *\n",
    "\n",
    "from sklearn.linear_model import LogisticRegression\n",
    "from sklearn import metrics\n",
    "from sklearn.datasets import make_classification\n",
    "from sklearn.model_selection import train_test_split, cross_val_score"
   ]
  },
  {
   "cell_type": "code",
   "execution_count": 13,
   "metadata": {},
   "outputs": [],
   "source": [
    "templated = [x for x in os.listdir(\"./Dataset/templated\")]\n",
    "templated.sort()\n",
    "clean = [x for x in os.listdir(\"./Dataset/clean\")]\n",
    "clean.sort()\n",
    "\n",
    "DATA_TEMPLATED = [\"./Dataset/templated/\" + x for x in os.listdir(\"./Dataset/templated\")]\n",
    "DATA_TEMPLATED.sort()\n",
    "len_templated = len(DATA_TEMPLATED)\n",
    "DATA_TEMPLATED1 = [DATA_TEMPLATED[0]]\n",
    "DATA_CLEAN = [\"./Dataset/clean/\" + x for x in os.listdir(\"./Dataset/clean\")]\n",
    "DATA_CLEAN.sort()\n",
    "len_clean = len(DATA_CLEAN)"
   ]
  },
  {
   "cell_type": "code",
   "execution_count": 17,
   "metadata": {},
   "outputs": [
    {
     "name": "stdout",
     "output_type": "stream",
     "text": [
      "F1-score: 0.955 (0.067)\n",
      "F1-score: 0.840 (0.082)\n",
      "F1-score: 0.988 (0.008)\n",
      "F1-score: 0.890 (0.050)\n",
      "F1-score: 0.820 (0.030)\n",
      "F1-score: 0.963 (0.013)\n",
      "F1-score: 0.868 (0.075)\n",
      "F1-score: 0.825 (0.080)\n",
      "F1-score: 0.853 (0.107)\n",
      "F1-score: 0.865 (0.115)\n",
      "F1-score: 0.740 (0.059)\n",
      "F1-score: 0.905 (0.080)\n",
      "F1-score: 0.742 (0.058)\n",
      "F1-score: 0.702 (0.091)\n",
      "F1-score: 0.895 (0.092)\n",
      "F1-score: 0.795 (0.056)\n",
      "F1-score: 0.858 (0.017)\n"
     ]
    },
    {
     "name": "stderr",
     "output_type": "stream",
     "text": [
      "C:\\Python39\\lib\\site-packages\\pandas\\io\\parsers\\readers.py:586: ParserWarning: Length of header or names does not match length of data. This leads to a loss of data with index_col=False.\n",
      "  return _read(filepath_or_buffer, kwds)\n"
     ]
    },
    {
     "name": "stdout",
     "output_type": "stream",
     "text": [
      "F1-score: 0.616 (0.072)\n",
      "F1-score: 0.763 (0.073)\n",
      "F1-score: 0.917 (0.036)\n",
      "F1-score: 0.642 (0.024)\n",
      "F1-score: 0.642 (0.024)\n",
      "F1-score: 0.590 (0.058)\n",
      "F1-score: 0.765 (0.073)\n",
      "0.8095381898813384\n",
      "0.809840240862686\n"
     ]
    }
   ],
   "source": [
    "f1 = []\n",
    "score_list = []\n",
    "# for i in DATA_TEMPLATED1:\n",
    "for i in DATA_TEMPLATED:\n",
    "    try:\n",
    "        # timer mulai\n",
    "        result_tf, label = term_freq(i, 1)\n",
    "\n",
    "        # create dataset\n",
    "        X, y = make_classification(n_samples=len(result_tf), n_features=len(result_tf[0]), random_state=1)\n",
    "        # prepare the cross-validation procedure\n",
    "        cv = KFold(n_splits=20, random_state=1, shuffle=True)\n",
    "        x_train, x_test, y_train, y_test = train_test_split(result_tf, label)\n",
    "              \n",
    "        logRes = LogisticRegression(random_state=1, max_iter=1000)\n",
    "        logRes.fit(x_train, y_train)\n",
    "        predictions = logRes.predict(x_test)\n",
    "        \n",
    "        # score = logRes.score(x_test, y_test)\n",
    "        scores = cross_val_score(logRes, result_tf, label, scoring='f1_micro', cv=cv, n_jobs=-1)\n",
    "        f1_score = metrics.f1_score(y_test, predictions, average='micro')\n",
    "\n",
    "        # f1.append(f1_score)\n",
    "        print('F1-score: %.3f (%.3f)' % (mean(scores), std(scores)))\n",
    "        score_list.append(mean(scores))\n",
    "        f1.append(f1_score)\n",
    "        # timer selesai\n",
    "    except Exception as e:\n",
    "        print(i, \": \", e)\n",
    "        pass\n",
    "\n",
    "print((sum(f1)/len(f1)))\n",
    "print((sum(score_list)/len(score_list)))"
   ]
  }
 ],
 "metadata": {
  "interpreter": {
   "hash": "63fd5069d213b44bf678585dea6b12cceca9941eaf7f819626cde1f2670de90d"
  },
  "kernelspec": {
   "display_name": "Python 3.9.2 64-bit",
   "name": "python3"
  },
  "language_info": {
   "codemirror_mode": {
    "name": "ipython",
    "version": 3
   },
   "file_extension": ".py",
   "mimetype": "text/x-python",
   "name": "python",
   "nbconvert_exporter": "python",
   "pygments_lexer": "ipython3",
   "version": "3.9.2"
  },
  "orig_nbformat": 4
 },
 "nbformat": 4,
 "nbformat_minor": 2
}
