{
 "cells": [
  {
   "cell_type": "code",
   "execution_count": 10,
   "source": [
    "import numpy as np\r\n",
    "import pandas as pd\r\n",
    "import matplotlib.pyplot as plt\r\n",
    "from gensim.models import Word2Vec\r\n",
    "from sklearn.decomposition import PCA, KernelPCA"
   ],
   "outputs": [],
   "metadata": {}
  },
  {
   "cell_type": "code",
   "execution_count": 11,
   "source": [
    "\r\n",
    "df = pd.read_csv(\"C:/Users/Samuel Samosir/Documents/Python/Kuliah/TA/benchmarking-sentiment-analysis-teks-indonesia/Dataset/clean/cleaned_posneg_data_bersih_helmi.csv\", sep=\";\", engine='python')\r\n",
    "df['teks']"
   ],
   "outputs": [
    {
     "output_type": "execute_result",
     "data": {
      "text/plain": [
       "0                    ['sangat', 'muas', 'jalan', 'jogja']\n",
       "1                     ['kamar', 'nyaman', 'unik', 'suka']\n",
       "2       ['hotel', 'rekomendasi', 'banget', 'deh', 'pok...\n",
       "3       ['sangat', 'senang', 'lokasi', 'dekat', 'bagai...\n",
       "4                     ['layan', 'baik', 'mudah', 'akses']\n",
       "                              ...                        \n",
       "4974    ['kamar', 'kotor', 'kesan', 'urus', 'sangat', ...\n",
       "4975    ['room', 'deluxe', 'seperti', 'awat', 'beberap...\n",
       "4976    ['mar', 'lembab', 'bau', 'kurang', 'sedap', 't...\n",
       "4977    ['lantai', 'rusak', 'dinding', 'banyak', 'kelu...\n",
       "4978    ['speri', 'di', 'minta', 'ganti', 'di', 'ganti...\n",
       "Name: teks, Length: 4979, dtype: object"
      ]
     },
     "metadata": {},
     "execution_count": 11
    }
   ],
   "metadata": {}
  },
  {
   "cell_type": "code",
   "execution_count": 13,
   "source": [
    "data = []\r\n",
    "for tweet in df[\"teks\"].tolist():\r\n",
    "    list_kata = eval(tweet)\r\n",
    "    data.append(list_kata)\r\n",
    "\r\n",
    "print(data[:5])\r\n",
    "model_cbow = Word2Vec(data, min_count=1, window=5)\r\n",
    "model_skipgram = Word2Vec(data, min_count=1, window=5, sg=1)\r\n",
    "\r\n",
    "print(model_cbow)\r\n",
    "\r\n",
    "model_cbow.save(\"./models/model_cbow.model\")\r\n",
    "model_skipgram.save(\"./models/model_skipgram.model\")"
   ],
   "outputs": [
    {
     "output_type": "stream",
     "name": "stdout",
     "text": [
      "[['sangat', 'muas', 'jalan', 'jogja'], ['kamar', 'nyaman', 'unik', 'suka'], ['hotel', 'rekomendasi', 'banget', 'deh', 'pokok', 'layan', 'bagus', 'cepat', 'asyik', 'buat', 'sudah', 'pasang', 'suami', 'istri'], ['sangat', 'senang', 'lokasi', 'dekat', 'bagai', 'fasilitas', 'umum', 'destinasi', 'wisata', 'jogja', 'sangat', 'bantu', 'libur', 'sini'], ['layan', 'baik', 'mudah', 'akses']]\n",
      "Word2Vec(vocab=3974, vector_size=100, alpha=0.025)\n"
     ]
    }
   ],
   "metadata": {}
  },
  {
   "cell_type": "code",
   "execution_count": 14,
   "source": [
    "model = Word2Vec.load(\"./models/model_cbow.model\")"
   ],
   "outputs": [],
   "metadata": {}
  },
  {
   "cell_type": "code",
   "execution_count": 15,
   "source": [
    "print(list(model.wv['kamar']))\r\n",
    "print(list(model.wv.most_similar('suka',topn=10)))"
   ],
   "outputs": [
    {
     "output_type": "stream",
     "name": "stdout",
     "text": [
      "[-0.11018758, 0.41622606, 0.255555, -0.18218525, -0.07083548, -0.36783162, 0.5232014, 1.0519216, -0.4570512, -0.23310924, -0.47925836, -0.37789655, 0.07769133, 0.065252505, -0.33585948, -0.46932468, 0.37679526, -0.119751096, -0.1600526, -1.1588106, 0.6538658, -0.36898777, 0.18878889, -0.16217981, -0.060758214, -0.393733, -0.39925775, -0.31078014, -0.21412078, 0.45179877, 0.51474285, 0.19635831, 0.09647164, -0.73173773, -0.18118948, 0.5924023, 0.10129905, -0.36280867, -0.13417768, -0.86981624, -0.306589, -0.7841255, -0.2781907, 0.27178508, 0.6367832, 0.10577127, -0.27445924, -0.076300226, 0.49576315, 0.12642924, 0.489322, -0.6770909, -0.018184768, -0.07130941, -0.39799687, 0.12260851, -0.06649851, -0.44613537, -0.820811, 0.005001193, 0.11516989, -0.0116782095, 0.37053373, -0.090718105, -0.47412497, 0.49543643, 0.5183876, 0.6739348, -0.84515077, 0.6548903, -0.2722456, 0.369032, 0.32963422, -0.019258177, 0.40378314, 0.29981107, -0.18259092, -0.053204093, -0.12363642, 0.20153765, -0.25668392, -0.33041, -0.73174995, 0.62912077, -0.40524137, -0.3259245, 0.28304902, 0.55123925, 0.27985695, 0.23673111, 0.8488678, 0.3503455, -0.24442959, 0.04466641, 0.78115034, 0.38787922, 0.18014611, -0.20565952, 0.23778912, -0.062152747]\n",
      "[('sekali', 0.9994698762893677), ('besar', 0.9993685483932495), ('indah', 0.9991763830184937), ('banget', 0.9991334080696106), ('keren', 0.9989792108535767), ('main', 0.9988884925842285), ('foto', 0.9988753795623779), ('suasana', 0.9988362789154053), ('utama', 0.9988241195678711), ('gambar', 0.9988074898719788)]\n"
     ]
    }
   ],
   "metadata": {}
  }
 ],
 "metadata": {
  "orig_nbformat": 4,
  "language_info": {
   "name": "python",
   "version": "3.9.2",
   "mimetype": "text/x-python",
   "codemirror_mode": {
    "name": "ipython",
    "version": 3
   },
   "pygments_lexer": "ipython3",
   "nbconvert_exporter": "python",
   "file_extension": ".py"
  },
  "kernelspec": {
   "name": "python3",
   "display_name": "Python 3.9.2 64-bit"
  },
  "interpreter": {
   "hash": "63fd5069d213b44bf678585dea6b12cceca9941eaf7f819626cde1f2670de90d"
  }
 },
 "nbformat": 4,
 "nbformat_minor": 2
}