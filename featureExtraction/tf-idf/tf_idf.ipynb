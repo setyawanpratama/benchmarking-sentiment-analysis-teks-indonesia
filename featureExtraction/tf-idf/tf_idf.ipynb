{
 "cells": [
  {
   "cell_type": "code",
   "execution_count": 1,
   "source": [
    "import numpy as np\r\n",
    "import pandas as pd\r\n",
    "import matplotlib\r\n",
    "import seaborn\r\n",
    "import nltk\r\n",
    "from sklearn.feature_extraction.text import TfidfVectorizer\r\n",
    "from sklearn.model_selection import train_test_split"
   ],
   "outputs": [],
   "metadata": {}
  },
  {
   "cell_type": "code",
   "execution_count": 2,
   "source": [
    "# df = pd.read_csv(filename, delimiter=\";;\", low_memory=False)\r\n",
    "data = {'tweet': ['aku mau pulang', 'rumah jauh lebih bagus', 'pengen bobo', 'udah lama nggak pulang', 'pengen kabur dari rumah', 'gamau pulang'], 'label':[-1, 1, -1, 0, -1, 1]}\r\n",
    "df = pd.DataFrame(data)\r\n"
   ],
   "outputs": [],
   "metadata": {}
  },
  {
   "cell_type": "code",
   "execution_count": 3,
   "source": [
    "x_train, x_test, y_train, y_test = train_test_split(df['tweet'], df['label'], test_size=0.25)\r\n",
    "print(\"Train: \", x_train.shape, y_train.shape, \"\\nTest: \", x_test.shape, y_test.shape)"
   ],
   "outputs": [
    {
     "output_type": "stream",
     "name": "stdout",
     "text": [
      "Train:  (4,) (4,) \n",
      "Test:  (2,) (2,)\n"
     ]
    }
   ],
   "metadata": {}
  },
  {
   "cell_type": "code",
   "execution_count": 4,
   "source": [
    "# tfidfconverter = TfidfVectorizer(max_features=2500 ,min_df=3, max_df=0.75)\r\n",
    "tfidfconverter = TfidfVectorizer(max_features=2500)\r\n",
    "tfidf_x_train = tfidfconverter.fit_transform(x_train)\r\n",
    "tfidf_x_test = tfidfconverter.transform(x_test)\r\n",
    "print(tfidf_x_train)\r\n",
    "print(\"---------\")\r\n",
    "print(tfidf_x_test)"
   ],
   "outputs": [
    {
     "output_type": "stream",
     "name": "stdout",
     "text": [
      "  (0, 8)\t0.6191302964899972\n",
      "  (0, 2)\t0.7852882757103967\n",
      "  (1, 0)\t0.5\n",
      "  (1, 5)\t0.5\n",
      "  (1, 3)\t0.5\n",
      "  (1, 9)\t0.5\n",
      "  (2, 6)\t0.5254727492640658\n",
      "  (2, 4)\t0.5254727492640658\n",
      "  (2, 10)\t0.5254727492640658\n",
      "  (2, 8)\t0.41428875116588965\n",
      "  (3, 1)\t0.7071067811865476\n",
      "  (3, 7)\t0.7071067811865476\n",
      "---------\n",
      "  (0, 8)\t1.0\n",
      "  (1, 9)\t0.7071067811865476\n",
      "  (1, 7)\t0.7071067811865476\n"
     ]
    }
   ],
   "metadata": {}
  },
  {
   "cell_type": "code",
   "execution_count": 5,
   "source": [
    "print(df['tweet'])\r\n",
    "a = []\r\n",
    "for i in df['tweet']:\r\n",
    "    temp = i.split(' ')\r\n",
    "    for j in temp:\r\n",
    "        if j not in a:\r\n",
    "            a.append(j)\r\n",
    "\r\n",
    "print(len(a))\r\n",
    "print(a)"
   ],
   "outputs": [
    {
     "output_type": "stream",
     "name": "stdout",
     "text": [
      "0             aku mau pulang\n",
      "1     rumah jauh lebih bagus\n",
      "2                pengen bobo\n",
      "3     udah lama nggak pulang\n",
      "4    pengen kabur dari rumah\n",
      "5               gamau pulang\n",
      "Name: tweet, dtype: object\n",
      "15\n",
      "['aku', 'mau', 'pulang', 'rumah', 'jauh', 'lebih', 'bagus', 'pengen', 'bobo', 'udah', 'lama', 'nggak', 'kabur', 'dari', 'gamau']\n"
     ]
    }
   ],
   "metadata": {}
  }
 ],
 "metadata": {
  "orig_nbformat": 4,
  "language_info": {
   "name": "python",
   "version": "3.9.2",
   "mimetype": "text/x-python",
   "codemirror_mode": {
    "name": "ipython",
    "version": 3
   },
   "pygments_lexer": "ipython3",
   "nbconvert_exporter": "python",
   "file_extension": ".py"
  },
  "kernelspec": {
   "name": "python3",
   "display_name": "Python 3.9.2 64-bit"
  },
  "interpreter": {
   "hash": "63fd5069d213b44bf678585dea6b12cceca9941eaf7f819626cde1f2670de90d"
  }
 },
 "nbformat": 4,
 "nbformat_minor": 2
}