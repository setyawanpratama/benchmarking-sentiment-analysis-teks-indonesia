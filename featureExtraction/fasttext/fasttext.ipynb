{
 "cells": [
  {
   "cell_type": "code",
   "execution_count": 6,
   "source": [
    "import numpy as np\r\n",
    "import pandas as pd\r\n",
    "from gensim.models import FastText"
   ],
   "outputs": [],
   "metadata": {}
  },
  {
   "cell_type": "code",
   "execution_count": 7,
   "source": [
    "df = pd.read_csv(\"C:/Users/Samuel Samosir/Documents/Python/Kuliah/TA/benchmarking-sentiment-analysis-teks-indonesia/Dataset/clean/cleaned_posneg_data_bersih_helmi.csv\", sep=\";\", engine='python')\r\n",
    "df['teks']"
   ],
   "outputs": [
    {
     "output_type": "execute_result",
     "data": {
      "text/plain": [
       "0                    ['sangat', 'muas', 'jalan', 'jogja']\n",
       "1                     ['kamar', 'nyaman', 'unik', 'suka']\n",
       "2       ['hotel', 'rekomendasi', 'banget', 'deh', 'pok...\n",
       "3       ['sangat', 'senang', 'lokasi', 'dekat', 'bagai...\n",
       "4                     ['layan', 'baik', 'mudah', 'akses']\n",
       "                              ...                        \n",
       "4974    ['kamar', 'kotor', 'kesan', 'urus', 'sangat', ...\n",
       "4975    ['room', 'deluxe', 'seperti', 'awat', 'beberap...\n",
       "4976    ['mar', 'lembab', 'bau', 'kurang', 'sedap', 't...\n",
       "4977    ['lantai', 'rusak', 'dinding', 'banyak', 'kelu...\n",
       "4978    ['speri', 'di', 'minta', 'ganti', 'di', 'ganti...\n",
       "Name: teks, Length: 4979, dtype: object"
      ]
     },
     "metadata": {},
     "execution_count": 7
    }
   ],
   "metadata": {}
  },
  {
   "cell_type": "code",
   "execution_count": 8,
   "source": [
    "data = []\r\n",
    "for tweet in df[\"teks\"].tolist():\r\n",
    "    list_kata = eval(tweet)\r\n",
    "    data.append(list_kata)\r\n",
    "\r\n",
    "print(data[:5])\r\n",
    "model_fasttext = FastText(data, min_count=1, window=5)\r\n",
    "model_fasttext_skipgram = FastText(data, min_count=1, window=5, sg=1)\r\n",
    "\r\n",
    "model_fasttext.save(\"./models/model_fasttext.model\")\r\n",
    "model_fasttext_skipgram.save(\"./models/model_fasttext_skipgram.model\")\r\n",
    "model_fasttext"
   ],
   "outputs": [
    {
     "output_type": "stream",
     "name": "stdout",
     "text": [
      "[['sangat', 'muas', 'jalan', 'jogja'], ['kamar', 'nyaman', 'unik', 'suka'], ['hotel', 'rekomendasi', 'banget', 'deh', 'pokok', 'layan', 'bagus', 'cepat', 'asyik', 'buat', 'sudah', 'pasang', 'suami', 'istri'], ['sangat', 'senang', 'lokasi', 'dekat', 'bagai', 'fasilitas', 'umum', 'destinasi', 'wisata', 'jogja', 'sangat', 'bantu', 'libur', 'sini'], ['layan', 'baik', 'mudah', 'akses']]\n"
     ]
    },
    {
     "output_type": "execute_result",
     "data": {
      "text/plain": [
       "<gensim.models.fasttext.FastText at 0x206a17c8fd0>"
      ]
     },
     "metadata": {},
     "execution_count": 8
    }
   ],
   "metadata": {}
  }
 ],
 "metadata": {
  "orig_nbformat": 4,
  "language_info": {
   "name": "python",
   "version": "3.9.2",
   "mimetype": "text/x-python",
   "codemirror_mode": {
    "name": "ipython",
    "version": 3
   },
   "pygments_lexer": "ipython3",
   "nbconvert_exporter": "python",
   "file_extension": ".py"
  },
  "kernelspec": {
   "name": "python3",
   "display_name": "Python 3.9.2 64-bit"
  },
  "interpreter": {
   "hash": "63fd5069d213b44bf678585dea6b12cceca9941eaf7f819626cde1f2670de90d"
  }
 },
 "nbformat": 4,
 "nbformat_minor": 2
}