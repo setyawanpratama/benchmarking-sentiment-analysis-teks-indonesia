{
 "cells": [
  {
   "cell_type": "code",
   "execution_count": 4,
   "metadata": {},
   "outputs": [],
   "source": [
    "import numpy as np\n",
    "import pandas as pd\n",
    "from gensim.models import FastText"
   ]
  },
  {
   "cell_type": "code",
   "execution_count": 5,
   "metadata": {},
   "outputs": [
    {
     "data": {
      "text/plain": [
       "0                    ['sangat', 'muas', 'jalan', 'jogja']\n",
       "1                     ['kamar', 'nyaman', 'unik', 'suka']\n",
       "2       ['hotel', 'rekomendasi', 'banget', 'deh', 'pok...\n",
       "3       ['sangat', 'senang', 'lokasi', 'dekat', 'bagai...\n",
       "4                     ['layan', 'baik', 'mudah', 'akses']\n",
       "                              ...                        \n",
       "4974    ['kamar', 'kotor', 'kesan', 'urus', 'sangat', ...\n",
       "4975    ['room', 'deluxe', 'seperti', 'awat', 'beberap...\n",
       "4976    ['mar', 'lembab', 'bau', 'kurang', 'sedap', 't...\n",
       "4977    ['lantai', 'rusak', 'dinding', 'banyak', 'kelu...\n",
       "4978    ['speri', 'di', 'minta', 'ganti', 'di', 'ganti...\n",
       "Name: teks, Length: 4979, dtype: object"
      ]
     },
     "execution_count": 5,
     "metadata": {},
     "output_type": "execute_result"
    }
   ],
   "source": [
    "df = pd.read_csv(\"C:/Users/Samuel Samosir/Documents/Python/Kuliah/TA/benchmarking-sentiment-analysis-teks-indonesia/Dataset/clean/cleaned_posneg_data_bersih_helmi.csv\", sep=\";\", engine='python')\n",
    "df['teks']"
   ]
  },
  {
   "cell_type": "code",
   "execution_count": 6,
   "metadata": {},
   "outputs": [
    {
     "name": "stdout",
     "output_type": "stream",
     "text": [
      "[['sangat', 'muas', 'jalan', 'jogja'], ['kamar', 'nyaman', 'unik', 'suka'], ['hotel', 'rekomendasi', 'banget', 'deh', 'pokok', 'layan', 'bagus', 'cepat', 'asyik', 'buat', 'sudah', 'pasang', 'suami', 'istri'], ['sangat', 'senang', 'lokasi', 'dekat', 'bagai', 'fasilitas', 'umum', 'destinasi', 'wisata', 'jogja', 'sangat', 'bantu', 'libur', 'sini'], ['layan', 'baik', 'mudah', 'akses']]\n"
     ]
    },
    {
     "data": {
      "text/plain": [
       "array([-0.42333624,  0.0046198 , -0.06997682,  0.563597  ,  0.20552734,\n",
       "       -0.15040554,  0.48406893, -0.16365598, -0.04494883, -0.06083613,\n",
       "       -0.15800732, -0.6152357 , -0.61172384, -0.07516748, -0.78514874,\n",
       "       -0.0909578 ,  0.44683778, -0.36035985, -0.64692074, -0.80424327,\n",
       "       -0.13210781, -0.440821  , -0.54987425,  0.16291937, -0.43670544,\n",
       "        0.11203309,  0.3738988 ,  0.4336792 , -0.02492343,  0.42750415,\n",
       "       -0.08065664, -0.24142484,  0.7074987 , -0.13866751,  0.3604688 ,\n",
       "        0.15636313,  0.2921568 , -0.20674844, -0.56936985, -0.41031078,\n",
       "       -1.0217817 , -0.244763  , -0.57131404,  0.15515573, -0.22585166,\n",
       "        0.35364324, -0.6982237 , -0.24669984,  0.10371034, -0.26718593,\n",
       "       -0.4541627 , -0.6591775 ,  0.16823569,  0.53237325,  0.39617646,\n",
       "       -0.49973944, -0.15638869,  0.15009469,  0.19538613,  0.04440286,\n",
       "        0.8075714 ,  0.28070956, -0.772271  ,  0.25187415,  0.31605202,\n",
       "        0.31709468,  0.09653058,  0.14316757, -0.02801971,  0.4956183 ,\n",
       "        0.36419576,  1.051767  , -0.24657026, -1.5356721 ,  0.59539396,\n",
       "       -0.12631667, -0.01161022, -0.32519847, -0.31784996,  0.60823435,\n",
       "        0.355997  , -0.26695547, -0.4551966 ,  0.06231054, -1.0427827 ,\n",
       "        0.36251768,  0.27002788,  0.13578117, -0.5056902 , -0.36016694,\n",
       "       -0.6857953 ,  0.39214015, -0.5930379 ,  0.04022304, -0.78910977,\n",
       "        0.7341511 ,  0.0886017 , -0.15441546,  0.28077286,  1.1408358 ],\n",
       "      dtype=float32)"
      ]
     },
     "execution_count": 6,
     "metadata": {},
     "output_type": "execute_result"
    }
   ],
   "source": [
    "data = []\n",
    "for tweet in df[\"teks\"].tolist():\n",
    "    list_kata = eval(tweet)\n",
    "    data.append(list_kata)\n",
    "\n",
    "print(data[:5])\n",
    "model_fasttext = FastText(data, min_count=1, window=5)\n",
    "model_fasttext_skipgram = FastText(data, min_count=1, window=5, sg=1)\n",
    "\n",
    "model_fasttext.save(\"./models/model_fasttext.model\")\n",
    "model_fasttext_skipgram.save(\"./models/model_fasttext_skipgram.model\")\n",
    "model_fasttext.wv['sangat']"
   ]
  }
 ],
 "metadata": {
  "interpreter": {
   "hash": "63fd5069d213b44bf678585dea6b12cceca9941eaf7f819626cde1f2670de90d"
  },
  "kernelspec": {
   "display_name": "Python 3.9.2 64-bit",
   "name": "python3"
  },
  "language_info": {
   "codemirror_mode": {
    "name": "ipython",
    "version": 3
   },
   "file_extension": ".py",
   "mimetype": "text/x-python",
   "name": "python",
   "nbconvert_exporter": "python",
   "pygments_lexer": "ipython3",
   "version": "3.9.2"
  },
  "orig_nbformat": 4
 },
 "nbformat": 4,
 "nbformat_minor": 2
}
