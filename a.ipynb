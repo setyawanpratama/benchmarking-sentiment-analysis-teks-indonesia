{
 "cells": [
  {
   "cell_type": "code",
   "execution_count": null,
   "metadata": {},
   "outputs": [],
   "source": [
    "import os\n",
    "import time\n",
    "import datetime\n",
    "import warnings\n",
    "from numpy import mean\n",
    "from numpy import std\n",
    "\n",
    "\n",
    "\n",
    "from classifier.decisionTree.decisionTree import *\n",
    "from classifier.knn.knn import *\n",
    "from classifier.logisticRegression.logisticRegression import *\n",
    "from classifier.naiveBayes.naiveBayes import *\n",
    "from classifier.ruleBased.ruleBased import *\n",
    "from classifier.svm.svm import *\n",
    "\n",
    "from featureExtraction.tf.tf import *"
   ]
  },
  {
   "cell_type": "code",
   "execution_count": null,
   "metadata": {},
   "outputs": [],
   "source": [
    "clean = [x for x in os.listdir(\"../Dataset/Clean\")]\n",
    "clean.sort()\n",
    "\n",
    "DATA_CLEAN = [\"../Dataset/Clean/\" + x for x in os.listdir(\"../Dataset/Clean\")]\n",
    "DATA_CLEAN.sort()\n",
    "DATA_CLEAN = DATA_CLEAN[1:]\n",
    "len_clean = len(DATA_CLEAN)"
   ]
  },
  {
   "cell_type": "code",
   "execution_count": null,
   "metadata": {},
   "outputs": [],
   "source": [
    "warnings.filterwarnings(\"ignore\")\n",
    "score_list = []\n",
    "count = 1\n",
    "fail = 0\n",
    "for i in DATA_CLEAN:\n",
    "    print(\"Running {}/{}\".format(count, len_templated), end=\" \")\n",
    "    try:\n",
    "        # timer mulai\n",
    "        result_fe, label = term_freq(i, 1)\n",
    "\n",
    "\n",
    "        score_list.append(mean(scores))\n",
    "        count += 1\n",
    "        # timer selesai\n",
    "    except Exception as e:\n",
    "        count += 1\n",
    "        fail += 1\n",
    "        print(i, \": \", e)\n",
    "        pass\n",
    "\n",
    "print((sum(score_list)/len(score_list)))\n",
    "print(\"Failed: {}\".format(fail))"
   ]
  }
 ],
 "metadata": {
  "language_info": {
   "name": "python"
  },
  "orig_nbformat": 4
 },
 "nbformat": 4,
 "nbformat_minor": 2
}
