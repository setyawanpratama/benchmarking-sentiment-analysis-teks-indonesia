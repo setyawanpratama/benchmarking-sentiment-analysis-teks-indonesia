{
 "cells": [
  {
   "cell_type": "code",
   "execution_count": 1,
   "metadata": {},
   "outputs": [],
   "source": [
    "import pandas as pd\n",
    "import numpy as np\n",
    "import torch\n",
    "import tqdm\n",
    "import os\n",
    "from transformers import BertConfig, BertTokenizer, BertForSequenceClassification\n",
    "from bert_utils import DocumentSentimentDataset, DocumentSentimentDataLoader, forward_sequence_classification, get_lr, count_param, metrics_to_string, set_seed, document_sentiment_metrics_fn, evaluate, training, testing"
   ]
  },
  {
   "cell_type": "code",
   "execution_count": 2,
   "metadata": {},
   "outputs": [],
   "source": [
    "os.environ[\"CUDA_VISIBLE_DEVICES\"]=\"7\"\n",
    "tf_device='/gpu:7'"
   ]
  },
  {
   "cell_type": "code",
   "execution_count": 3,
   "metadata": {},
   "outputs": [
    {
     "name": "stderr",
     "output_type": "stream",
     "text": [
      "Some weights of the model checkpoint at indolem/indobert-base-uncased were not used when initializing BertForSequenceClassification: ['cls.predictions.transform.dense.weight', 'cls.predictions.transform.LayerNorm.weight', 'cls.predictions.transform.dense.bias', 'cls.predictions.transform.LayerNorm.bias', 'cls.predictions.decoder.weight', 'cls.predictions.decoder.bias', 'cls.predictions.bias']\n",
      "- This IS expected if you are initializing BertForSequenceClassification from the checkpoint of a model trained on another task or with another architecture (e.g. initializing a BertForSequenceClassification model from a BertForPreTraining model).\n",
      "- This IS NOT expected if you are initializing BertForSequenceClassification from the checkpoint of a model that you expect to be exactly identical (initializing a BertForSequenceClassification model from a BertForSequenceClassification model).\n",
      "Some weights of BertForSequenceClassification were not initialized from the model checkpoint at indolem/indobert-base-uncased and are newly initialized: ['classifier.weight', 'classifier.bias']\n",
      "You should probably TRAIN this model on a down-stream task to be able to use it for predictions and inference.\n"
     ]
    }
   ],
   "source": [
    "tokenizer = BertTokenizer.from_pretrained(\"indolem/indobertweet-base-uncased\")\n",
    "config = BertConfig.from_pretrained(\"indolem/indobertweet-base-uncased\")\n",
    "config.num_labels = 2\n",
    "model = BertForSequenceClassification.from_pretrained(\"indolem/indobertweet-base-uncased\", config=config)"
   ]
  },
  {
   "cell_type": "code",
   "execution_count": 4,
   "metadata": {},
   "outputs": [
    {
     "name": "stdout",
     "output_type": "stream",
     "text": [
      "{0: 0, 1: 1}\n",
      "{0: 'negative', 1: 'positive'}\n"
     ]
    }
   ],
   "source": [
    "w2i, i2w = DocumentSentimentDataset.LABEL2INDEX, DocumentSentimentDataset.INDEX2LABEL\n",
    "print(w2i)\n",
    "print(i2w)"
   ]
  },
  {
   "cell_type": "code",
   "execution_count": 5,
   "metadata": {},
   "outputs": [],
   "source": [
    "train = DocumentSentimentDataset('../Dataset/Split/Two_Label/train_posneg_raw_data_sentiment2.csv', tokenizer)\n",
    "valid = DocumentSentimentDataset('../Dataset/Split/Two_Label/valid_posneg_raw_data_sentiment2.csv', tokenizer)\n",
    "test = DocumentSentimentDataset('../Dataset/Split/Two_Label/test_posneg_raw_data_sentiment2.csv', tokenizer)\n",
    "train_loader = DocumentSentimentDataLoader(dataset=train, max_seq_len=256, batch_size=16, num_workers=1, shuffle=True)\n",
    "valid_loader = DocumentSentimentDataLoader(dataset=valid, max_seq_len=256, batch_size=16, num_workers=1, shuffle=True)\n",
    "test_loader = DocumentSentimentDataLoader(dataset=test, max_seq_len=256, batch_size=16, num_workers=1, shuffle=True)"
   ]
  },
  {
   "cell_type": "code",
   "execution_count": 6,
   "metadata": {},
   "outputs": [],
   "source": [
    "torch.cuda.empty_cache()"
   ]
  },
  {
   "cell_type": "code",
   "execution_count": 7,
   "metadata": {},
   "outputs": [],
   "source": [
    "optimizer = torch.optim.Adam(model.parameters(), lr=5e-5)\n",
    "model = model.cuda()"
   ]
  },
  {
   "cell_type": "code",
   "execution_count": 8,
   "metadata": {},
   "outputs": [],
   "source": [
    "set_seed(9112021)"
   ]
  },
  {
   "cell_type": "code",
   "execution_count": 9,
   "metadata": {
    "scrolled": true
   },
   "outputs": [
    {
     "name": "stderr",
     "output_type": "stream",
     "text": [
      "(Epoch 1) TRAIN LOSS:0.5592 LR:0.00005000: 100%|██████████████████████████████████████| 298/298 [00:26<00:00, 11.45it/s]\n"
     ]
    },
    {
     "name": "stdout",
     "output_type": "stream",
     "text": [
      "(Epoch 1) TRAIN LOSS:0.5592 ACC:0.72 F1:0.72 REC:0.72 PRE:0.72 LR:0.00005000\n"
     ]
    },
    {
     "name": "stderr",
     "output_type": "stream",
     "text": [
      "VALID LOSS:0.4484 ACC:0.79 F1:0.79 REC:0.79 PRE:0.79: 100%|█████████████████████████████| 75/75 [00:02<00:00, 30.48it/s]\n"
     ]
    },
    {
     "name": "stdout",
     "output_type": "stream",
     "text": [
      "26.189090728759766\n",
      "5.766054153442383\n"
     ]
    }
   ],
   "source": [
    "training(model, 1, train_loader, valid_loader, optimizer, i2w)"
   ]
  },
  {
   "cell_type": "code",
   "execution_count": 10,
   "metadata": {},
   "outputs": [
    {
     "name": "stderr",
     "output_type": "stream",
     "text": [
      "TEST LOSS:0.4144 ACC:0.81 F1:0.81 REC:0.81 PRE:0.81: 100%|██████████████████████████████| 94/94 [00:02<00:00, 33.21it/s]"
     ]
    },
    {
     "name": "stdout",
     "output_type": "stream",
     "text": [
      "2.9615983963012695\n",
      "TEST LOSS:1.0000 0.4143971654962986\n"
     ]
    },
    {
     "name": "stderr",
     "output_type": "stream",
     "text": [
      "\n"
     ]
    }
   ],
   "source": [
    "testing(model, test_loader, i2w)"
   ]
  }
 ],
 "metadata": {
  "kernelspec": {
   "display_name": "Python 3 (ipykernel)",
   "language": "python",
   "name": "python3"
  },
  "language_info": {
   "codemirror_mode": {
    "name": "ipython",
    "version": 3
   },
   "file_extension": ".py",
   "mimetype": "text/x-python",
   "name": "python",
   "nbconvert_exporter": "python",
   "pygments_lexer": "ipython3",
   "version": "3.8.10"
  }
 },
 "nbformat": 4,
 "nbformat_minor": 4
}
