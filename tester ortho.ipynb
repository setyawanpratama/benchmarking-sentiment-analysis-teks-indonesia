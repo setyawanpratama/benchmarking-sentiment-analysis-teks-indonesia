{
 "cells": [
  {
   "cell_type": "code",
   "execution_count": 1,
   "metadata": {},
   "outputs": [],
   "source": [
    "import os\n",
    "import h5py\n",
    "from nltk.util import usage\n",
    "import numpy as np\n",
    "import datetime\n",
    "import time\n",
    "import warnings\n",
    "\n",
    "from featureExtraction.tf.tf import *\n",
    "from featureExtraction.tfidf.tfidf import *\n",
    "from featureExtraction.fasttext.fasttext import *\n",
    "from featureExtraction.lexicon.lexicon import *\n",
    "from featureExtraction.orthography.orthography import *\n",
    "from featureExtraction.pos.postag import *\n",
    "from featureExtraction.tf.tf import *\n",
    "from featureExtraction.word2vec.word2vec import *\n",
    "from featureExtraction.ngram.ngram import *\n",
    "\n",
    "from featureSelection.kFold import *\n",
    "\n",
    "from sklearn.linear_model import LogisticRegression\n",
    "from sklearn.datasets import make_classification\n",
    "from sklearn.model_selection import train_test_split, cross_val_score"
   ]
  },
  {
   "cell_type": "code",
   "execution_count": 2,
   "metadata": {},
   "outputs": [],
   "source": [
    "templated = [x for x in os.listdir(\"./Dataset/templated\")]\n",
    "templated.sort()\n",
    "clean = [x for x in os.listdir(\"./Dataset/clean\")]\n",
    "clean.sort()\n",
    "\n",
    "DATA_TEMPLATED = [\"./Dataset/templated/\" + x for x in os.listdir(\"./Dataset/templated\")]\n",
    "DATA_TEMPLATED.sort()\n",
    "len_templated = len(DATA_TEMPLATED)\n",
    "DATA_TEMPLATED1 = [DATA_TEMPLATED[0]]\n",
    "DATA_CLEAN = [\"./Dataset/clean/\" + x for x in os.listdir(\"./Dataset/clean\")]\n",
    "DATA_CLEAN.sort()\n",
    "len_clean = len(DATA_CLEAN)"
   ]
  },
  {
   "cell_type": "code",
   "execution_count": 3,
   "metadata": {},
   "outputs": [
    {
     "name": "stdout",
     "output_type": "stream",
     "text": [
      "Running 1/24 F1-score: 0.615 (0.135)\n",
      "Running 2/24 F1-score: 0.685 (0.085)\n",
      "Running 3/24 F1-score: 0.730 (0.020)\n",
      "Running 4/24 F1-score: 0.632 (0.072)\n",
      "Running 5/24 F1-score: 0.627 (0.039)\n",
      "Running 6/24 F1-score: 0.602 (0.022)\n",
      "Running 7/24 F1-score: 0.585 (0.131)\n",
      "Running 8/24 F1-score: 0.600 (0.096)\n",
      "Running 9/24 F1-score: 0.520 (0.128)\n",
      "Running 10/24 F1-score: 0.675 (0.144)\n",
      "Running 11/24 F1-score: 0.570 (0.107)\n",
      "Running 12/24 F1-score: 0.570 (0.149)\n",
      "Running 13/24 F1-score: 0.568 (0.071)\n",
      "Running 14/24 F1-score: 0.526 (0.084)\n",
      "Running 15/24 F1-score: 0.555 (0.160)\n",
      "Running 16/24 F1-score: 0.529 (0.056)\n",
      "Running 17/24 F1-score: 0.641 (0.024)\n",
      "Running 18/24 F1-score: 0.528 (0.056)\n",
      "Running 19/24 F1-score: 0.598 (0.077)\n",
      "Running 20/24 F1-score: 0.716 (0.050)\n",
      "Running 21/24 F1-score: 0.451 (0.031)\n",
      "Running 22/24 F1-score: 0.451 (0.031)\n",
      "Running 23/24 F1-score: 0.449 (0.061)\n",
      "Running 24/24 F1-score: 0.671 (0.077)\n",
      "0.5872412578744827\n",
      "Failed: 0\n"
     ]
    }
   ],
   "source": [
    "warnings.filterwarnings(\"ignore\")\n",
    "score_list = []\n",
    "# for i in DATA_TEMPLATED1:\n",
    "count = 1\n",
    "fail = 0\n",
    "for i in DATA_TEMPLATED:\n",
    "    print(\"Running {}/{}\".format(count, len_templated), end=\" \")\n",
    "    try:\n",
    "        # timer mulai\n",
    "        result_fe, label, feat_name = run_ortografi(i)\n",
    "\n",
    "        # create dataset\n",
    "        # X, y = make_classification(n_samples=len(result_fe), n_features=len(result_fe[0]), random_state=1)\n",
    "        # prepare the cross-validation procedure\n",
    "        cv = KFold(n_splits=20, random_state=1, shuffle=True)\n",
    "        x_train, x_test, y_train, y_test = train_test_split(result_fe, label)\n",
    "              \n",
    "        logRes = LogisticRegression(random_state=1, max_iter=1000)\n",
    "        logRes.fit(x_train, y_train)\n",
    "        predictions = logRes.predict(x_test)\n",
    "        \n",
    "        scores = cross_val_score(logRes, result_fe, label, scoring='f1_micro', cv=cv, n_jobs=-1)\n",
    "        print('F1-score: %.3f (%.3f)' % (mean(scores), std(scores)))\n",
    "        score_list.append(mean(scores))\n",
    "        count += 1\n",
    "        # timer selesai\n",
    "    except Exception as e:\n",
    "        count += 1\n",
    "        fail += 1\n",
    "        print(i, \": \", e)\n",
    "        pass\n",
    "\n",
    "print((sum(score_list)/len(score_list)))\n",
    "print(\"Failed: {}\".format(fail))"
   ]
  }
 ],
 "metadata": {
  "interpreter": {
   "hash": "63fd5069d213b44bf678585dea6b12cceca9941eaf7f819626cde1f2670de90d"
  },
  "kernelspec": {
   "display_name": "Python 3.9.2 64-bit",
   "name": "python3"
  },
  "language_info": {
   "codemirror_mode": {
    "name": "ipython",
    "version": 3
   },
   "file_extension": ".py",
   "mimetype": "text/x-python",
   "name": "python",
   "nbconvert_exporter": "python",
   "pygments_lexer": "ipython3",
   "version": "3.9.2"
  },
  "orig_nbformat": 4
 },
 "nbformat": 4,
 "nbformat_minor": 2
}
